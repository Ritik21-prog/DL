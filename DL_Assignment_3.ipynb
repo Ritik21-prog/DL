{
  "cells": [
    {
      "cell_type": "markdown",
      "metadata": {
        "id": "view-in-github",
        "colab_type": "text"
      },
      "source": [
        "<a href=\"https://colab.research.google.com/github/Ritik21-prog/DL/blob/main/DL_Assignment_3.ipynb\" target=\"_parent\"><img src=\"https://colab.research.google.com/assets/colab-badge.svg\" alt=\"Open In Colab\"/></a>"
      ]
    },
    {
      "cell_type": "markdown",
      "source": [
        "#Deep Learning Assignment 3"
      ],
      "metadata": {
        "id": "Nk69A-QzrG7U"
      }
    },
    {
      "cell_type": "markdown",
      "source": [
        "Question 1 & 2 \n",
        "1.\tCreate a single layer neural network to classify the self generated random data.\n",
        "2. Study the single layer neural network for different Learning rates"
      ],
      "metadata": {
        "id": "1KEbU6Dfr_tw"
      }
    },
    {
      "cell_type": "code",
      "execution_count": 1,
      "metadata": {
        "id": "LaJ8z6Yuq89i"
      },
      "outputs": [],
      "source": [
        "import torch\n",
        "import matplotlib.pyplot as plt\n",
        "import torch.nn as nn\n",
        "import torch.nn.functional as F\n",
        "from torch.utils.data import TensorDataset\n",
        "from torch.utils.data import DataLoader"
      ]
    },
    {
      "cell_type": "code",
      "execution_count": 2,
      "metadata": {
        "colab": {
          "base_uri": "https://localhost:8080/",
          "height": 0
        },
        "id": "PyYgGC9Cq89k",
        "outputId": "4aee8bed-4006-4bfc-bb6c-2ba36a2a790b"
      },
      "outputs": [
        {
          "output_type": "execute_result",
          "data": {
            "text/plain": [
              "torch.Size([20, 3])"
            ]
          },
          "metadata": {},
          "execution_count": 2
        }
      ],
      "source": [
        "x = torch.rand(20,3)*10\n",
        "x.shape"
      ]
    },
    {
      "cell_type": "code",
      "execution_count": 3,
      "metadata": {
        "colab": {
          "base_uri": "https://localhost:8080/",
          "height": 0
        },
        "id": "6B9MwUF2q89l",
        "outputId": "8088fc55-d61d-48d8-c11f-ec5e6e16702e"
      },
      "outputs": [
        {
          "output_type": "execute_result",
          "data": {
            "text/plain": [
              "tensor([[9.2811, 9.4719, 0.1378],\n",
              "        [7.2813, 4.2870, 5.8457],\n",
              "        [4.6164, 8.0342, 3.5215],\n",
              "        [1.9787, 3.4084, 7.9448],\n",
              "        [2.6044, 4.7093, 4.7800],\n",
              "        [9.4194, 7.6821, 4.7227],\n",
              "        [4.9051, 4.4502, 8.8638],\n",
              "        [7.6883, 9.9559, 8.9496],\n",
              "        [0.4157, 3.5342, 1.0092],\n",
              "        [7.3670, 8.6515, 0.3330],\n",
              "        [1.2142, 9.1559, 2.7731],\n",
              "        [5.2195, 7.3021, 0.7404],\n",
              "        [8.4016, 5.7850, 3.8657],\n",
              "        [2.3179, 9.6106, 9.4974],\n",
              "        [9.6513, 3.3734, 2.0661],\n",
              "        [2.7037, 0.1462, 0.9117],\n",
              "        [4.0236, 4.7659, 7.8823],\n",
              "        [7.5236, 6.8399, 0.0454],\n",
              "        [7.3238, 9.8035, 8.1271],\n",
              "        [8.5334, 2.9812, 7.6181]])"
            ]
          },
          "metadata": {},
          "execution_count": 3
        }
      ],
      "source": [
        "x"
      ]
    },
    {
      "cell_type": "code",
      "execution_count": 4,
      "metadata": {
        "colab": {
          "base_uri": "https://localhost:8080/",
          "height": 0
        },
        "id": "HMCGwgqSq89m",
        "outputId": "13da2192-a65f-478b-e02a-c47c94dd9f28"
      },
      "outputs": [
        {
          "output_type": "execute_result",
          "data": {
            "text/plain": [
              "torch.Size([20, 1])"
            ]
          },
          "metadata": {},
          "execution_count": 4
        }
      ],
      "source": [
        "y = torch.rand(20,1)*100\n",
        "y.shape"
      ]
    },
    {
      "cell_type": "code",
      "execution_count": 5,
      "metadata": {
        "colab": {
          "base_uri": "https://localhost:8080/",
          "height": 0
        },
        "id": "tWYsE1iRq89m",
        "outputId": "a1e86f1e-bdf3-46ff-e18d-5ec7dea6f3c0"
      },
      "outputs": [
        {
          "output_type": "execute_result",
          "data": {
            "text/plain": [
              "tensor([[ 4.6120],\n",
              "        [89.6277],\n",
              "        [68.4541],\n",
              "        [13.9255],\n",
              "        [78.4321],\n",
              "        [ 6.0864],\n",
              "        [70.7742],\n",
              "        [68.2873],\n",
              "        [51.9692],\n",
              "        [66.8385],\n",
              "        [91.9245],\n",
              "        [52.9174],\n",
              "        [91.3991],\n",
              "        [63.3734],\n",
              "        [77.8251],\n",
              "        [38.9050],\n",
              "        [24.2081],\n",
              "        [88.0189],\n",
              "        [45.3519],\n",
              "        [84.1781]])"
            ]
          },
          "metadata": {},
          "execution_count": 5
        }
      ],
      "source": [
        "y"
      ]
    },
    {
      "cell_type": "code",
      "execution_count": 6,
      "metadata": {
        "id": "GxqdSIf2q89m"
      },
      "outputs": [],
      "source": [
        "comparison = []"
      ]
    },
    {
      "cell_type": "code",
      "execution_count": 7,
      "metadata": {
        "colab": {
          "base_uri": "https://localhost:8080/",
          "height": 0
        },
        "id": "R17tihEzq89m",
        "outputId": "654a8f4e-7b66-49b6-bab9-01dbb84b2996"
      },
      "outputs": [
        {
          "output_type": "stream",
          "name": "stdout",
          "text": [
            "Epoch [10/100]: 571.8908081054688\n",
            "Epoch [20/100]: 538.7283325195312\n",
            "Epoch [30/100]: 529.2715454101562\n",
            "Epoch [40/100]: 525.5965576171875\n",
            "Epoch [50/100]: 537.8642578125\n",
            "Epoch [60/100]: 531.06396484375\n",
            "Epoch [70/100]: 526.514404296875\n",
            "Epoch [80/100]: 529.0806274414062\n",
            "Epoch [90/100]: 526.68212890625\n",
            "Epoch [100/100]: 525.4666748046875\n",
            "Epoch [10/100]: 1173.51708984375\n",
            "Epoch [20/100]: 921.3839111328125\n",
            "Epoch [30/100]: 783.1090698242188\n",
            "Epoch [40/100]: 705.8740234375\n",
            "Epoch [50/100]: 645.1075439453125\n",
            "Epoch [60/100]: 620.7944946289062\n",
            "Epoch [70/100]: 604.4223022460938\n",
            "Epoch [80/100]: 593.9976196289062\n",
            "Epoch [90/100]: 583.5729370117188\n",
            "Epoch [100/100]: 573.1483154296875\n",
            "Epoch [10/100]: 1465.4991455078125\n",
            "Epoch [20/100]: 1429.4520263671875\n",
            "Epoch [30/100]: 1393.4049072265625\n",
            "Epoch [40/100]: 1357.3577880859375\n",
            "Epoch [50/100]: 1321.310791015625\n",
            "Epoch [60/100]: 1285.2635498046875\n",
            "Epoch [70/100]: 1249.2164306640625\n",
            "Epoch [80/100]: 1213.1690673828125\n",
            "Epoch [90/100]: 1177.1219482421875\n",
            "Epoch [100/100]: 1141.0748291015625\n"
          ]
        }
      ],
      "source": [
        "for step_size in [1e-2,1e-3,1e-4]:\n",
        "    g = torch.Generator().manual_seed(2147483647)\n",
        "    W = torch.randn((3,1), generator=g, requires_grad=True)\n",
        "    loss_list = []\n",
        "    for i in range(100):\n",
        "        pred = x@W\n",
        "        loss = (abs(y-pred)).sum()\n",
        "        loss.backward()\n",
        "        W.data -= step_size*W.grad\n",
        "        W.grad = None\n",
        "        if (i+1)%10==0:\n",
        "            print(f'Epoch [{i+1}/100]: {loss}')\n",
        "            loss_list.append(loss.item())\n",
        "    comparison.append(loss_list)\n"
      ]
    },
    {
      "cell_type": "code",
      "execution_count": 8,
      "metadata": {
        "colab": {
          "base_uri": "https://localhost:8080/",
          "height": 430
        },
        "id": "eSHgOCL3q89n",
        "outputId": "667b5ca1-3509-4be5-d94e-c45d04f9624e"
      },
      "outputs": [
        {
          "output_type": "display_data",
          "data": {
            "text/plain": [
              "<Figure size 640x480 with 1 Axes>"
            ],
            "image/png": "[encoded data removed]"
          },
          "metadata": {}
        }
      ],
      "source": [
        "for l in comparison:\n",
        "    plt.plot(l)\n",
        "    plt.legend(['10^-2','10^-3','10^-4'])"
      ]
    },
    {
      "cell_type": "markdown",
      "source": [
        "Question 3\n",
        "3.\tCreate a Deep Multi Layer Neural Network to classify self generated random data."
      ],
      "metadata": {
        "id": "GYKr7Nttsc-L"
      }
    },
    {
      "cell_type": "code",
      "source": [
        "x = torch.rand(20,3)*10\n",
        "y = torch.rand(20,1)*100"
      ],
      "metadata": {
        "id": "Bxb1VzyJsgDL"
      },
      "execution_count": 9,
      "outputs": []
    },
    {
      "cell_type": "code",
      "source": [
        "x"
      ],
      "metadata": {
        "colab": {
          "base_uri": "https://localhost:8080/",
          "height": 0
        },
        "id": "zS_47ajms5OS",
        "outputId": "58683047-28be-453b-840d-1ebcf40dc88b"
      },
      "execution_count": 10,
      "outputs": [
        {
          "output_type": "execute_result",
          "data": {
            "text/plain": [
              "tensor([[4.3056, 1.7724, 9.1947],\n",
              "        [1.5267, 3.0330, 6.6125],\n",
              "        [2.6743, 5.1106, 4.4557],\n",
              "        [7.0804, 8.8744, 6.5768],\n",
              "        [7.9938, 4.0876, 6.5661],\n",
              "        [1.5082, 0.0515, 0.6090],\n",
              "        [2.1524, 6.1851, 1.0684],\n",
              "        [3.9152, 7.1530, 8.6911],\n",
              "        [1.8570, 8.7194, 3.3422],\n",
              "        [9.5621, 4.7407, 1.5072],\n",
              "        [7.4785, 3.7765, 8.3124],\n",
              "        [1.3301, 8.9161, 6.6486],\n",
              "        [1.1438, 0.1436, 4.9416],\n",
              "        [8.7712, 4.0845, 3.9239],\n",
              "        [2.3341, 1.3762, 7.4690],\n",
              "        [5.8254, 6.6000, 8.5973],\n",
              "        [6.9309, 5.0309, 2.3199],\n",
              "        [8.0756, 8.6827, 9.4845],\n",
              "        [7.6496, 6.5058, 8.2393],\n",
              "        [7.8627, 7.8699, 6.3979]])"
            ]
          },
          "metadata": {},
          "execution_count": 10
        }
      ]
    },
    {
      "cell_type": "code",
      "source": [
        "y"
      ],
      "metadata": {
        "colab": {
          "base_uri": "https://localhost:8080/",
          "height": 0
        },
        "id": "tR45L_TZs7i7",
        "outputId": "632df649-d248-4084-e8a6-1ea7e2a0fa62"
      },
      "execution_count": 11,
      "outputs": [
        {
          "output_type": "execute_result",
          "data": {
            "text/plain": [
              "tensor([[22.4361],\n",
              "        [40.3192],\n",
              "        [79.6992],\n",
              "        [95.2338],\n",
              "        [68.2304],\n",
              "        [90.2981],\n",
              "        [82.8816],\n",
              "        [41.8553],\n",
              "        [22.8137],\n",
              "        [10.0590],\n",
              "        [77.3418],\n",
              "        [11.1808],\n",
              "        [87.1400],\n",
              "        [72.4201],\n",
              "        [18.3939],\n",
              "        [35.8133],\n",
              "        [19.9643],\n",
              "        [84.1217],\n",
              "        [94.6387],\n",
              "        [35.4257]])"
            ]
          },
          "metadata": {},
          "execution_count": 11
        }
      ]
    },
    {
      "cell_type": "code",
      "source": [
        "train_ds = TensorDataset(x,y)"
      ],
      "metadata": {
        "id": "CADKCQaes-0R"
      },
      "execution_count": 12,
      "outputs": []
    },
    {
      "cell_type": "code",
      "source": [
        "batch_size=5\n",
        "train_dl = DataLoader(train_ds,batch_size,shuffle=True)"
      ],
      "metadata": {
        "id": "S3ETuur6tA-i"
      },
      "execution_count": 13,
      "outputs": []
    },
    {
      "cell_type": "code",
      "source": [
        "class MLP(nn.Module):\n",
        "    def __init__(self,input_size,hidden_size,output_size):\n",
        "        super().__init__()\n",
        "        self.layer1 = nn.Linear(input_size,hidden_size)\n",
        "        self.layer2 = nn.Linear(hidden_size,output_size)\n",
        "\n",
        "    def forward(self,x):\n",
        "        out = self.layer1(x)\n",
        "        out = F.relu(out)\n",
        "        out = self.layer2(out)\n",
        "        out = F.relu(out)\n",
        "        return out"
      ],
      "metadata": {
        "id": "0xA8Lbc0tBFr"
      },
      "execution_count": 14,
      "outputs": []
    },
    {
      "cell_type": "code",
      "source": [
        "input_size = 3\n",
        "hidden_size = 8\n",
        "output_size = 1\n",
        "model = MLP(input_size,hidden_size,output_size)"
      ],
      "metadata": {
        "id": "Sp8nnf69tFjL"
      },
      "execution_count": 15,
      "outputs": []
    },
    {
      "cell_type": "code",
      "source": [
        "loss_fn = F.mse_loss\n",
        "opt = torch.optim.SGD(model.parameters(), lr=1e-5)"
      ],
      "metadata": {
        "id": "LbR_sjs0tH0z"
      },
      "execution_count": 16,
      "outputs": []
    },
    {
      "cell_type": "code",
      "source": [
        "def fit(epochs,model,loss_fn,opt,train_dl):\n",
        "    for epoch in range(epochs):\n",
        "        for x,y in train_dl:\n",
        "            pred = model(x)\n",
        "            loss = loss_fn(pred,y)\n",
        "            loss.backward()\n",
        "            opt.step()\n",
        "            opt.zero_grad()\n",
        "        if (epoch+1)%10 == 0:\n",
        "            print('Epoch [{}/{}], Loss: {:.4f}'.format(epoch+1, epochs, loss.item()))"
      ],
      "metadata": {
        "id": "3Rmk9qs6tJnP"
      },
      "execution_count": 17,
      "outputs": []
    },
    {
      "cell_type": "code",
      "source": [
        "fit(100,model,loss_fn,opt,train_dl)"
      ],
      "metadata": {
        "colab": {
          "base_uri": "https://localhost:8080/",
          "height": 0
        },
        "id": "M0yQSSzStNKS",
        "outputId": "257d7e3b-e968-426c-eaf6-c92ea9b8d78c"
      },
      "execution_count": 18,
      "outputs": [
        {
          "output_type": "stream",
          "name": "stdout",
          "text": [
            "Epoch [10/100], Loss: 4802.2017\n",
            "Epoch [20/100], Loss: 4402.9033\n",
            "Epoch [30/100], Loss: 3813.3450\n",
            "Epoch [40/100], Loss: 4157.4917\n",
            "Epoch [50/100], Loss: 3521.7258\n",
            "Epoch [60/100], Loss: 5386.6860\n",
            "Epoch [70/100], Loss: 3990.1868\n",
            "Epoch [80/100], Loss: 3644.3093\n",
            "Epoch [90/100], Loss: 5223.3604\n",
            "Epoch [100/100], Loss: 4822.6514\n"
          ]
        }
      ]
    }
  ],
  "metadata": {
    "kernelspec": {
      "display_name": "Python 3",
      "language": "python",
      "name": "python3"
    },
    "language_info": {
      "codemirror_mode": {
        "name": "ipython",
        "version": 3
      },
      "file_extension": ".py",
      "mimetype": "text/x-python",
      "name": "python",
      "nbconvert_exporter": "python",
      "pygments_lexer": "ipython3",
      "version": "3.10.5 (tags/v3.10.5:f377153, Jun  6 2022, 16:14:13) [MSC v.1929 64 bit (AMD64)]"
    },
    "orig_nbformat": 4,
    "vscode": {
      "interpreter": {
        "hash": "26de051ba29f2982a8de78e945f0abaf191376122a1563185a90213a26c5da77"
      }
    },
    "colab": {
      "provenance": [],
      "include_colab_link": true
    }
  },
  "nbformat": 4,
  "nbformat_minor": 0
}